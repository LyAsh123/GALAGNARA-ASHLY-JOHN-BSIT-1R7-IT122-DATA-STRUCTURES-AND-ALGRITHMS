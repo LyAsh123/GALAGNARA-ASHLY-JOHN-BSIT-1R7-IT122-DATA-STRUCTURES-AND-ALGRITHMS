{
 "cells": [
  {
   "cell_type": "code",
   "execution_count": 1,
   "id": "joined-hospital",
   "metadata": {},
   "outputs": [
    {
     "name": "stdout",
     "output_type": "stream",
     "text": [
      "When it comes to Data Structures and Algorithm the data must be clear and concise. It should be clear to understand. Defining a data should follow four characteristics – Atomic which means that a data should define a single concept, should be able to mapped to some data element (Traceable), it should be unambiguous (accurate), and the definition should be clear and concise. In programming data object represents an object that has a stored data. Data type determines the values that can be used with the corresponding type of data. It is a way of differentiating several types of data like integer and string.  Built-in data type means that the language itself support this certain data type such as these basic data types namely  integers, Boolean, Floating, Characters and strings. On the other hand, derived data types are data types that can be implemented in one or the other way. These are built through the combined built-in data type and associated operations on them. Now, data structures are processed by certain operations. These operations could be traversing, Searching, Insertion, Deletion, Sorting, and Merging. These operations are the basic operations that can be used to implement data is a code.\n"
     ]
    }
   ],
   "source": [
    "print(\"When it comes to Data Structures and Algorithm the data must be clear and concise. It should be clear to understand. Defining a data should follow four characteristics – Atomic which means that a data should define a single concept, should be able to mapped to some data element (Traceable), it should be unambiguous (accurate), and the definition should be clear and concise. In programming data object represents an object that has a stored data. Data type determines the values that can be used with the corresponding type of data. It is a way of differentiating several types of data like integer and string.  Built-in data type means that the language itself support this certain data type such as these basic data types namely  integers, Boolean, Floating, Characters and strings. On the other hand, derived data types are data types that can be implemented in one or the other way. These are built through the combined built-in data type and associated operations on them. Now, data structures are processed by certain operations. These operations could be traversing, Searching, Insertion, Deletion, Sorting, and Merging. These operations are the basic operations that can be used to implement data is a code.\")"
   ]
  },
  {
   "cell_type": "code",
   "execution_count": null,
   "id": "resident-convention",
   "metadata": {},
   "outputs": [],
   "source": []
  }
 ],
 "metadata": {
  "kernelspec": {
   "display_name": "Python 3",
   "language": "python",
   "name": "python3"
  },
  "language_info": {
   "codemirror_mode": {
    "name": "ipython",
    "version": 3
   },
   "file_extension": ".py",
   "mimetype": "text/x-python",
   "name": "python",
   "nbconvert_exporter": "python",
   "pygments_lexer": "ipython3",
   "version": "3.8.6"
  }
 },
 "nbformat": 4,
 "nbformat_minor": 5
}
