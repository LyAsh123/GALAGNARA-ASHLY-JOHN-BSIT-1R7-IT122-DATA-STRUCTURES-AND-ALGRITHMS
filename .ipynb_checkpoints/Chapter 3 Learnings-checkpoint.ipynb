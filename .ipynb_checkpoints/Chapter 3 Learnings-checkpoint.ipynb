{
 "cells": [
  {
   "cell_type": "code",
   "execution_count": 1,
   "id": "diagnostic-pointer",
   "metadata": {},
   "outputs": [
    {
     "name": "stdout",
     "output_type": "stream",
     "text": [
      "In the other subject, I already have learned that an array represents as an empty chamber in which a user can store a same type items. It is a variable that can store multiple data. An array contains parts that are called as the element and the index. And element is an item that is stored inside an array wherein an index is the position or location of each element in an array.  An index determines the location of all the elements in an array so it can be used to access elements. The index number only limit until 10 indexes wherein the first element has an index of 0 and the last element has an index of 9.\n",
      "The supported operations or the basic operations of an array are first, the traverse which prints all the elements, insertion that adds an element in a given index, deletion that removes an elements on a certain index, search that searches an element using the given index of by values, and update for updating new element at a given index.  Type codes are the codes defines what type of elements an array will holds. Another thing that I learned is how to start an array.\n"
     ]
    }
   ],
   "source": [
    "print(\"In the other subject, I already have learned that an array represents as an empty chamber in which a user can store a same type items. It is a variable that can store multiple data. An array contains parts that are called as the element and the index. And element is an item that is stored inside an array wherein an index is the position or location of each element in an array.  An index determines the location of all the elements in an array so it can be used to access elements. The index number only limit until 10 indexes wherein the first element has an index of 0 and the last element has an index of 9.\")\n",
    "print(\"The supported operations or the basic operations of an array are first, the traverse which prints all the elements, insertion that adds an element in a given index, deletion that removes an elements on a certain index, search that searches an element using the given index of by values, and update for updating new element at a given index.  Type codes are the codes defines what type of elements an array will holds. Another thing that I learned is how to start an array.\")"
   ]
  },
  {
   "cell_type": "code",
   "execution_count": null,
   "id": "bronze-destination",
   "metadata": {},
   "outputs": [],
   "source": []
  }
 ],
 "metadata": {
  "kernelspec": {
   "display_name": "Python 3",
   "language": "python",
   "name": "python3"
  },
  "language_info": {
   "codemirror_mode": {
    "name": "ipython",
    "version": 3
   },
   "file_extension": ".py",
   "mimetype": "text/x-python",
   "name": "python",
   "nbconvert_exporter": "python",
   "pygments_lexer": "ipython3",
   "version": "3.8.6"
  }
 },
 "nbformat": 4,
 "nbformat_minor": 5
}
