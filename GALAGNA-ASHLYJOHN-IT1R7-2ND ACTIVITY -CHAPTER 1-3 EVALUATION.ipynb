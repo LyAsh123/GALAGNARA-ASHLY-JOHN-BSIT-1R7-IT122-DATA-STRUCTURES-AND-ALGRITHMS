{
 "cells": [
  {
   "cell_type": "code",
   "execution_count": 3,
   "id": "compound-calculator",
   "metadata": {},
   "outputs": [
    {
     "name": "stdout",
     "output_type": "stream",
     "text": [
      "Through watching the lecture I have learned that algorithm is a sequence of computational steps that computes an input   \n",
      "into an output. At first I thought that algorithm involve mostly on numbers base on what I have learned on my high school\n",
      "years. To understand it shortly I could say that Algorithm is a step-by-step process of things that are about to be executed.\n",
      "Now, not all processes can be labeled as an algorithm because procedures should contain characteristics of an algorithm.\n",
      " An algorithm should be clear or unambiguous, it should be organized. Secondly, it must have 0 or more well-defined inputs \n",
      "and 1 or more well-defined outputs. It should also have limits of execution, it must terminate after a finite number of \n",
      "steps. It must have the capability of being done or feasible and lastly, it should have a step-by-step directions which \n",
      "should be independent in any programming code. Moving on, I have learned that data structuring makes your data organized \n",
      "also to prevent system damages. Also, data structure has foundations - Interface and Implementation. Digger deeper on what \n",
      "are the characteristics of Data Structure. I have learned that implementation of data structure should be implementedcorrectly,\n",
      "It must be small as possible, and must be small memory usage as possible. I think this are all the things that I've learned\n"
     ]
    }
   ],
   "source": [
    "print(\"Through watching the lecture I have learned that algorithm is a sequence of computational steps that computes an input   \")\n",
    "print(\"into an output. At first I thought that algorithm involve mostly on numbers base on what I have learned on my high school\")\n",
    "print(\"years. To understand it shortly I could say that Algorithm is a step-by-step process of things that are about to be executed.\")\n",
    "print(\"Now, not all processes can be labeled as an algorithm because procedures should contain characteristics of an algorithm.\")\n",
    "print(\" An algorithm should be clear or unambiguous, it should be organized. Secondly, it must have 0 or more well-defined inputs \")\n",
    "print(\"and 1 or more well-defined outputs. It should also have limits of execution, it must terminate after a finite number of \")\n",
    "print(\"steps. It must have the capability of being done or feasible and lastly, it should have a step-by-step directions which \")\n",
    "print(\"should be independent in any programming code. Moving on, I have learned that data structuring makes your data organized \")\n",
    "print(\"also to prevent system damages. Also, data structure has foundations - Interface and Implementation. Digger deeper on what \")\n",
    "print(\"are the characteristics of Data Structure. I have learned that implementation of data structure should be implemented correctly,\")\n",
    "print(\"It must be small as possible, and must be small memory usage as possible. I think this are all the things that I've learned\")"
   ]
  },
  {
   "cell_type": "code",
   "execution_count": 1,
   "id": "therapeutic-lottery",
   "metadata": {},
   "outputs": [
    {
     "name": "stdout",
     "output_type": "stream",
     "text": [
      "From the end part of the video discussion, I have learned that the complexity of algorithm has two main factors that decides the efficiency of an algorithm. First is the time factor which is measured by counting the number of key operations such as comparisons in the sorting algorithm. Second, the space factor which can be measured by counting the maximum memory space required by an algorithm.\n",
      "Another complexity of an algorithm is the space complexity which represents the amount of memory space that an algorithm required. It is said that an algorithm contains stored data which needs enough space so run. This space that has been required is the same value of the sum of these two components – Fixed part and variable part. On the other hand time complexity represents the amount of time required by an algorithm. The algorithm starts on a certain period of time and should have time limit upon completion.\n"
     ]
    }
   ],
   "source": [
    "print(\"From the end part of the video discussion, I have learned that the complexity of algorithm has two main factors that decides the efficiency of an algorithm. First is the time factor which is measured by counting the number of key operations such as comparisons in the sorting algorithm. Second, the space factor which can be measured by counting the maximum memory space required by an algorithm.\")\n",
    "print(\"Another complexity of an algorithm is the space complexity which represents the amount of memory space that an algorithm required. It is said that an algorithm contains stored data which needs enough space so run. This space that has been required is the same value of the sum of these two components – Fixed part and variable part. On the other hand time complexity represents the amount of time required by an algorithm. The algorithm starts on a certain period of time and should have time limit upon completion.\")"
   ]
  },
  {
   "cell_type": "code",
   "execution_count": 2,
   "id": "studied-tension",
   "metadata": {},
   "outputs": [
    {
     "name": "stdout",
     "output_type": "stream",
     "text": [
      "When it comes to Data Structures and Algorithm the data must be clear and concise. It should be clear to understand. Defining a data should follow four characteristics – Atomic which means that a data should define a single concept, should be able to mapped to some data element (Traceable), it should be unambiguous (accurate), and the definition should be clear and concise. In programming data object represents an object that has a stored data. Data type determines the values that can be used with the corresponding type of data. It is a way of differentiating several types of data like integer and string.  Built-in data type means that the language itself support this certain data type such as these basic data types namely  integers, Boolean, Floating, Characters and strings. On the other hand, derived data types are data types that can be implemented in one or the other way. These are built through the combined built-in data type and associated operations on them. Now, data structures are processed by certain operations. These operations could be traversing, Searching, Insertion, Deletion, Sorting, and Merging. These operations are the basic operations that can be used to implement data is a code.\n"
     ]
    }
   ],
   "source": [
    "print(\"When it comes to Data Structures and Algorithm the data must be clear and concise. It should be clear to understand. Defining a data should follow four characteristics – Atomic which means that a data should define a single concept, should be able to mapped to some data element (Traceable), it should be unambiguous (accurate), and the definition should be clear and concise. In programming data object represents an object that has a stored data. Data type determines the values that can be used with the corresponding type of data. It is a way of differentiating several types of data like integer and string.  Built-in data type means that the language itself support this certain data type such as these basic data types namely  integers, Boolean, Floating, Characters and strings. On the other hand, derived data types are data types that can be implemented in one or the other way. These are built through the combined built-in data type and associated operations on them. Now, data structures are processed by certain operations. These operations could be traversing, Searching, Insertion, Deletion, Sorting, and Merging. These operations are the basic operations that can be used to implement data is a code.\")"
   ]
  },
  {
   "cell_type": "code",
   "execution_count": 3,
   "id": "finite-annex",
   "metadata": {},
   "outputs": [
    {
     "name": "stdout",
     "output_type": "stream",
     "text": [
      "In the other subject, I already have learned that an array represents as an empty chamber in which a user can store a same type items. It is a variable that can store multiple data. An array contains parts that are called as the element and the index. And element is an item that is stored inside an array wherein an index is the position or location of each element in an array.  An index determines the location of all the elements in an array so it can be used to access elements. The index number only limit until 10 indexes wherein the first element has an index of 0 and the last element has an index of 9.\n",
      "The supported operations or the basic operations of an array are first, the traverse which prints all the elements, insertion that adds an element in a given index, deletion that removes an elements on a certain index, search that searches an element using the given index of by values, and update for updating new element at a given index.  Type codes are the codes defines what type of elements an array will holds. Another thing that I learned is how to start an array.\n"
     ]
    }
   ],
   "source": [
    "print(\"In the other subject, I already have learned that an array represents as an empty chamber in which a user can store a same type items. It is a variable that can store multiple data. An array contains parts that are called as the element and the index. And element is an item that is stored inside an array wherein an index is the position or location of each element in an array.  An index determines the location of all the elements in an array so it can be used to access elements. The index number only limit until 10 indexes wherein the first element has an index of 0 and the last element has an index of 9.\")\n",
    "print(\"The supported operations or the basic operations of an array are first, the traverse which prints all the elements, insertion that adds an element in a given index, deletion that removes an elements on a certain index, search that searches an element using the given index of by values, and update for updating new element at a given index.  Type codes are the codes defines what type of elements an array will holds. Another thing that I learned is how to start an array.\")"
   ]
  },
  {
   "cell_type": "code",
   "execution_count": 4,
   "id": "north-tiger",
   "metadata": {},
   "outputs": [
    {
     "name": "stdout",
     "output_type": "stream",
     "text": [
      "1\n",
      "10\n",
      "2\n",
      "3\n",
      "9\n"
     ]
    }
   ],
   "source": [
    "from array import*\n",
    "\n",
    "array_1 = array('i',[1,2,3,4,5])\n",
    "\n",
    "array_1.insert(1, 10)\n",
    "array_1.remove(5)\n",
    "array_1[4] = 9\n",
    "for x in array_1:\n",
    "    print(x)"
   ]
  },
  {
   "cell_type": "code",
   "execution_count": null,
   "id": "interior-surname",
   "metadata": {},
   "outputs": [],
   "source": []
  }
 ],
 "metadata": {
  "kernelspec": {
   "display_name": "Python 3",
   "language": "python",
   "name": "python3"
  },
  "language_info": {
   "codemirror_mode": {
    "name": "ipython",
    "version": 3
   },
   "file_extension": ".py",
   "mimetype": "text/x-python",
   "name": "python",
   "nbconvert_exporter": "python",
   "pygments_lexer": "ipython3",
   "version": "3.8.6"
  }
 },
 "nbformat": 4,
 "nbformat_minor": 5
}
