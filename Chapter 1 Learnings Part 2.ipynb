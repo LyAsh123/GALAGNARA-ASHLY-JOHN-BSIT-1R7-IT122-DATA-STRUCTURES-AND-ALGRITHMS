{
 "cells": [
  {
   "cell_type": "code",
   "execution_count": 3,
   "id": "golden-michigan",
   "metadata": {},
   "outputs": [
    {
     "name": "stdout",
     "output_type": "stream",
     "text": [
      "From the end part of the video discussion, I have learned that the complexity of algorithm has two main factors that decides the efficiency of an algorithm. First is the time factor which is measured by counting the number of key operations such as comparisons in the sorting algorithm. Second, the space factor which can be measured by counting the maximum memory space required by an algorithm.\n",
      "Another complexity of an algorithm is the space complexity which represents the amount of memory space that an algorithm required. It is said that an algorithm contains stored data which needs enough space so run. This space that has been required is the same value of the sum of these two components – Fixed part and variable part. On the other hand time complexity represents the amount of time required by an algorithm. The algorithm starts on a certain period of time and should have time limit upon completion.\n"
     ]
    }
   ],
   "source": [
    "print(\"From the end part of the video discussion, I have learned that the complexity of algorithm has two main factors that decides the efficiency of an algorithm. First is the time factor which is measured by counting the number of key operations such as comparisons in the sorting algorithm. Second, the space factor which can be measured by counting the maximum memory space required by an algorithm.\")\n",
    "print(\"Another complexity of an algorithm is the space complexity which represents the amount of memory space that an algorithm required. It is said that an algorithm contains stored data which needs enough space so run. This space that has been required is the same value of the sum of these two components – Fixed part and variable part. On the other hand time complexity represents the amount of time required by an algorithm. The algorithm starts on a certain period of time and should have time limit upon completion.\")"
   ]
  },
  {
   "cell_type": "code",
   "execution_count": null,
   "id": "sustainable-square",
   "metadata": {},
   "outputs": [],
   "source": []
  },
  {
   "cell_type": "code",
   "execution_count": null,
   "id": "split-visiting",
   "metadata": {},
   "outputs": [],
   "source": []
  }
 ],
 "metadata": {
  "kernelspec": {
   "display_name": "Python 3",
   "language": "python",
   "name": "python3"
  },
  "language_info": {
   "codemirror_mode": {
    "name": "ipython",
    "version": 3
   },
   "file_extension": ".py",
   "mimetype": "text/x-python",
   "name": "python",
   "nbconvert_exporter": "python",
   "pygments_lexer": "ipython3",
   "version": "3.8.6"
  }
 },
 "nbformat": 4,
 "nbformat_minor": 5
}
