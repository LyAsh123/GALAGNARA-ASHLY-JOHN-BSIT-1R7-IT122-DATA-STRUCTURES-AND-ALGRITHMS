{
 "cells": [
  {
   "cell_type": "code",
   "execution_count": 3,
   "id": "overhead-heating",
   "metadata": {},
   "outputs": [
    {
     "name": "stdout",
     "output_type": "stream",
     "text": [
      "Through watching the lecture I have learned that algorithm is a sequence of computational steps that computes an input   \n",
      "into an output. At first I thought that algorithm involve mostly on numbers base on what I have learned on my high school\n",
      "years. To understand it shortly I could say that Algorithm is a step-by-step process of things that are about to be executed.\n",
      "Now, not all processes can be labeled as an algorithm because procedures should contain characteristics of an algorithm.\n",
      " An algorithm should be clear or unambiguous, it should be organized. Secondly, it must have 0 or more well-defined inputs \n",
      "and 1 or more well-defined outputs. It should also have limits of execution, it must terminate after a finite number of \n",
      "steps. It must have the capability of being done or feasible and lastly, it should have a step-by-step directions which \n",
      "should be independent in any programming code. Moving on, I have learned that data structuring makes your data organized \n",
      "also to prevent system damages. Also, data structure has foundations - Interface and Implementation. Digger deeper on what \n",
      "are the characteristics of Data Structure. I have learned that implementation of data structure should be implementedcorrectly,\n",
      "It must be small as possible, and must be small memory usage as possible. I think this are all the things that I've learned\n"
     ]
    }
   ],
   "source": [
    "print(\"Through watching the lecture I have learned that algorithm is a sequence of computational steps that computes an input   \")\n",
    "print(\"into an output. At first I thought that algorithm involve mostly on numbers base on what I have learned on my high school\")\n",
    "print(\"years. To understand it shortly I could say that Algorithm is a step-by-step process of things that are about to be executed.\")\n",
    "print(\"Now, not all processes can be labeled as an algorithm because procedures should contain characteristics of an algorithm.\")\n",
    "print(\" An algorithm should be clear or unambiguous, it should be organized. Secondly, it must have 0 or more well-defined inputs \")\n",
    "print(\"and 1 or more well-defined outputs. It should also have limits of execution, it must terminate after a finite number of \")\n",
    "print(\"steps. It must have the capability of being done or feasible and lastly, it should have a step-by-step directions which \")\n",
    "print(\"should be independent in any programming code. Moving on, I have learned that data structuring makes your data organized \")\n",
    "print(\"also to prevent system damages. Also, data structure has foundations - Interface and Implementation. Digger deeper on what \")\n",
    "print(\"are the characteristics of Data Structure. I have learned that implementation of data structure should be implemented correctly,\")\n",
    "print(\"It must be small as possible, and must be small memory usage as possible. I think this are all the things that I've learned\")"
   ]
  },
  {
   "cell_type": "code",
   "execution_count": null,
   "id": "manufactured-director",
   "metadata": {},
   "outputs": [],
   "source": []
  }
 ],
 "metadata": {
  "kernelspec": {
   "display_name": "Python 3",
   "language": "python",
   "name": "python3"
  },
  "language_info": {
   "codemirror_mode": {
    "name": "ipython",
    "version": 3
   },
   "file_extension": ".py",
   "mimetype": "text/x-python",
   "name": "python",
   "nbconvert_exporter": "python",
   "pygments_lexer": "ipython3",
   "version": "3.8.6"
  }
 },
 "nbformat": 4,
 "nbformat_minor": 5
}
